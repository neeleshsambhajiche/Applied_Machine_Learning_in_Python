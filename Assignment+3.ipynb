{
 "cells": [
  {
   "cell_type": "markdown",
   "metadata": {},
   "source": [
    "---\n",
    "\n",
    "_You are currently looking at **version 1.2** of this notebook. To download notebooks and datafiles, as well as get help on Jupyter notebooks in the Coursera platform, visit the [Jupyter Notebook FAQ](https://www.coursera.org/learn/python-machine-learning/resources/bANLa) course resource._\n",
    "\n",
    "---"
   ]
  },
  {
   "cell_type": "markdown",
   "metadata": {},
   "source": [
    "# Assignment 3 - Evaluation\n",
    "\n",
    "In this assignment you will train several models and evaluate how effectively they predict instances of fraud using data based on [this dataset from Kaggle](https://www.kaggle.com/dalpozz/creditcardfraud).\n",
    " \n",
    "Each row in `fraud_data.csv` corresponds to a credit card transaction. Features include confidential variables `V1` through `V28` as well as `Amount` which is the amount of the transaction. \n",
    " \n",
    "The target is stored in the `class` column, where a value of 1 corresponds to an instance of fraud and 0 corresponds to an instance of not fraud."
   ]
  },
  {
   "cell_type": "code",
   "execution_count": 2,
   "metadata": {
    "collapsed": false
   },
   "outputs": [
    {
     "name": "stdout",
     "output_type": "stream",
     "text": [
      "             V1        V2        V3        V4        V5        V6        V7  \\\n",
      "0      1.176563  0.323798  0.536927  1.047002 -0.368652 -0.728586  0.084678   \n",
      "1      0.681109 -3.934776 -3.801827 -1.147468 -0.735540 -0.501097  1.038865   \n",
      "2      1.140729  0.453484  0.247010  2.383132  0.343287  0.432804  0.093380   \n",
      "3     -1.107073 -3.298902 -0.184092 -1.795744  2.137564 -1.684992 -2.015606   \n",
      "4     -0.314818  0.866839 -0.124577 -0.627638  2.651762  3.428128  0.194637   \n",
      "5     -0.713266  0.869132  0.330114  0.902275  0.520836 -0.537036  0.301955   \n",
      "6      1.219060 -0.207708  0.782809  0.271655 -0.456658  0.414201 -0.675133   \n",
      "7      0.683918  0.329216 -1.693025 -1.123644  2.662177  3.563731 -0.309291   \n",
      "8     -1.127820  1.461342  0.526673 -0.158998  0.353158 -1.539196  0.727383   \n",
      "9     -1.757794  0.821894  2.529482 -0.328198 -0.902062  0.739803 -0.119755   \n",
      "10     0.349277 -2.539493  0.645773 -0.503734 -1.792852  0.986512 -0.927262   \n",
      "11    -0.411810  1.023427  1.264103  0.025506  0.233213 -0.549449  0.582704   \n",
      "12    -1.166636  1.389047  1.814434 -0.244077  0.326655 -0.173679  0.946169   \n",
      "13    -1.156068  0.260288  1.156287 -1.628519 -0.336503 -1.493760 -0.080079   \n",
      "14    -1.190038  0.649469  2.284449 -1.859697 -0.670685 -0.496543  0.064523   \n",
      "15    -1.927453  1.827621 -7.019495  5.348303 -2.739188 -2.107219 -5.015848   \n",
      "16    -1.747174  0.160249  2.376843  0.786738 -0.075605  0.571059 -0.743427   \n",
      "17    -2.168001  0.033924  1.449290 -0.812047  1.002470 -1.138005 -0.037403   \n",
      "18     1.095177  0.019951  0.802611  1.434379 -0.794724 -0.740487 -0.034083   \n",
      "19     0.012405  0.323292  1.447131  0.752747 -0.103552 -0.174479 -0.129467   \n",
      "20     1.240972  0.056519  0.356187  0.444614 -0.428139 -0.522949 -0.177292   \n",
      "21    -1.623956 -0.036442  0.362751 -2.224536  0.095510 -0.092187 -0.463413   \n",
      "22    -0.493634  0.921872  1.620242  0.902272 -0.063681 -0.470267  0.449907   \n",
      "23     0.832463 -1.766357 -1.878930 -1.428497  1.353795  3.284183 -0.405475   \n",
      "24    -0.864354 -5.195435 -0.145487 -0.036902 -3.374848  0.114814 -0.004674   \n",
      "25     1.013856 -0.383698  1.281437  0.778703 -1.008979  0.373272 -0.773102   \n",
      "26    -1.032545  1.933906 -3.733012  1.414886  1.008538 -0.583919 -0.313771   \n",
      "27     0.132132  0.979695 -0.565781 -0.760869  1.188832 -0.258507  0.875670   \n",
      "28     1.541905 -1.596027 -0.993563  0.728659 -0.790370  0.375218 -0.510420   \n",
      "29    -0.730463  0.791686  0.372490 -0.440954  1.452256 -0.885030  0.766894   \n",
      "...         ...       ...       ...       ...       ...       ...       ...   \n",
      "21663  1.893277  0.299036 -0.138355  3.497436  0.410420  1.326585 -0.590901   \n",
      "21664  0.491390 -3.935168 -2.061988 -1.687501 -1.495859  0.250427  0.302015   \n",
      "21665  0.063739 -1.535378 -0.385704  1.542355 -0.627658 -0.273289  0.948604   \n",
      "21666 -0.897571  1.165881  2.029559  1.037276 -0.373979  0.231473 -0.488755   \n",
      "21667  1.293053  0.457969 -1.940450  0.173149  2.609570  3.014117 -0.269415   \n",
      "21668 -1.834765 -0.949266  1.243113 -2.549263  1.865862  0.556664 -0.021561   \n",
      "21669  0.648227 -0.591837 -0.022753  1.525897 -0.513242 -0.559400  0.558397   \n",
      "21670  1.193230 -0.360918 -0.336591  0.588198  1.629746  4.383153 -1.054576   \n",
      "21671 -0.928876  0.326916 -1.331394 -3.254378  2.736104  3.109749 -0.048090   \n",
      "21672  1.154611  0.730975  0.229805  2.510698  0.268697 -0.544096  0.531158   \n",
      "21673  1.239308 -2.616800 -1.652903 -0.149417 -1.405589 -0.644614 -0.051613   \n",
      "21674  0.001428  0.916366 -0.497938 -0.712840  1.573434  0.723309  0.786018   \n",
      "21675  0.265446  0.434850  1.007913 -0.667498  0.421526 -0.051506  0.591064   \n",
      "21676 -1.482774 -1.141015  1.247646 -2.030778  0.606697 -1.187212 -0.071586   \n",
      "21677 -0.725210  0.210455 -0.133458 -0.519537  0.295570  0.291036  0.325864   \n",
      "21678 -1.116407  0.376521  3.316122  0.862534 -0.524907  0.652169 -0.011293   \n",
      "21679  1.211549 -0.165301  1.040853  0.748805 -0.835772 -0.019663 -0.616143   \n",
      "21680 -0.311558  1.107522  0.956259 -0.129188  0.528012 -0.516072  0.706706   \n",
      "21681 -0.453495  0.500477 -0.559159 -0.334116  0.273782 -1.190017  0.711302   \n",
      "21682 -0.601010  1.198247  1.067919 -0.176747  0.193350 -0.514269  0.545662   \n",
      "21683 -0.804507 -0.217345  1.203681 -1.450968  0.760603 -1.675161  0.591709   \n",
      "21684  1.774153 -0.335586 -2.163389 -0.018065  1.220907  1.305908 -0.155277   \n",
      "21685  1.220962 -0.370427 -0.576485 -0.593385  1.536292  3.609123 -1.019619   \n",
      "21686  0.366938 -0.684030  0.336175  2.903367 -0.720543 -0.620429  0.753048   \n",
      "21687  0.410438 -1.078627  1.221283  2.316929 -1.212109  0.462245 -0.176176   \n",
      "21688 -3.959670  3.297819 -1.079436 -2.290106 -1.405133  2.452586 -4.649235   \n",
      "21689 -1.066503  0.539240  0.735343 -0.506800  0.843980 -1.047877  1.141302   \n",
      "21690 -2.175162 -0.441681  1.883137 -0.267440  1.056972  0.136404  0.113595   \n",
      "21691  0.031406  0.694817  0.083233 -0.797912  0.564318 -0.560787  0.805901   \n",
      "21692 -0.312369  0.944738  1.430605  0.627951  0.317725 -0.180406  0.793108   \n",
      "\n",
      "              V8        V9       V10  ...          V21       V22       V23  \\\n",
      "0      -0.069246 -0.266389  0.155315  ...    -0.109627 -0.341365  0.057845   \n",
      "1      -0.626979 -2.274423  1.527782  ...     0.652202  0.272684 -0.982151   \n",
      "2       0.173310 -0.808999  0.775436  ...    -0.003802  0.058556 -0.121177   \n",
      "3      -0.007181 -0.165760  0.869659  ...     0.130648  0.329445  0.927656   \n",
      "4       0.670674 -0.442658  0.133499  ...    -0.312774 -0.799494 -0.064488   \n",
      "5       0.209117 -0.732441 -0.266402  ...     0.114405  0.412489  0.223180   \n",
      "6       0.057714  0.601970 -0.178378  ...     0.170372  0.541010 -0.257175   \n",
      "7      -0.043369  0.050627 -0.361619  ...     1.072188  0.671990 -0.208488   \n",
      "8       0.299275 -0.778768 -1.662588  ...    -0.068002 -0.494914 -0.343489   \n",
      "9      -0.797691  0.739508  3.458517  ...     0.028491  0.778325 -0.073034   \n",
      "10      0.219743  4.583702 -1.996804  ...     0.105308  0.028927 -0.741057   \n",
      "11      0.084713 -0.353955 -0.542805  ...    -0.236514 -0.599369  0.023124   \n",
      "12     -0.443605  1.952918  1.338142  ...    -0.577149 -0.596898 -0.014435   \n",
      "13      0.317057 -1.607637 -0.124948  ...    -0.221843 -1.072046 -0.000836   \n",
      "14      0.316738  1.074358 -1.833037  ...     0.102518  0.485023 -0.300320   \n",
      "15      1.205868 -4.382713 -8.337707  ...     1.376938 -0.792017 -0.771414   \n",
      "16      0.757220 -0.085915  0.024518  ...     0.323960  1.046272 -0.095525   \n",
      "17      0.669784 -0.895791 -1.412297  ...    -0.004460 -0.731487 -0.135547   \n",
      "18     -0.073445  0.565157 -0.169784  ...    -0.231788 -0.609317  0.054908   \n",
      "19      0.178702  0.511475 -0.334618  ...     0.184652  0.599186  0.148023   \n",
      "20      0.070270  0.094131  0.159462  ...    -0.249812 -0.847428  0.106271   \n",
      "21      0.739835 -1.009196 -0.460432  ...    -0.124588 -0.638592 -0.174162   \n",
      "22      0.073920 -0.290609 -0.135549  ...     0.099953  0.218758 -0.062152   \n",
      "23      0.614356 -0.935204  0.485105  ...     0.300880  0.011194 -0.496172   \n",
      "24     -0.222042 -0.913182  0.660584  ...     0.355475 -1.100775 -0.956213   \n",
      "25      0.350888  0.691339 -0.123581  ...     0.018844  0.154386  0.046121   \n",
      "26      1.307526 -0.770346 -1.330849  ...    -0.092068 -0.220648  0.290823   \n",
      "27      0.056931 -0.295647 -0.669371  ...    -0.316677 -0.793629  0.030582   \n",
      "28     -0.036730 -0.130471  0.865294  ...     0.133095  0.397227 -0.181592   \n",
      "29      0.016297 -0.797715 -1.039430  ...    -0.010832 -0.224437 -0.284164   \n",
      "...          ...       ...       ...  ...          ...       ...       ...   \n",
      "21663   0.315506 -0.672879  1.515105  ...     0.218793  0.746952  0.092907   \n",
      "21664  -0.222407  0.679370 -0.488589  ...    -0.212131 -1.882119 -0.345168   \n",
      "21665  -0.269357 -0.148931 -0.314895  ...     0.416199 -0.038970 -0.593987   \n",
      "21666  -1.708417 -0.781630  0.471678  ...     1.086220 -0.890915  0.034196   \n",
      "21667   0.754420 -0.221009 -0.620800  ...    -0.121126 -0.427753 -0.159336   \n",
      "21668   0.280124  2.720104 -1.751543  ...     0.148293  1.094670  0.096242   \n",
      "21669  -0.152398 -0.196307  0.046154  ...     0.193226  0.034355 -0.373316   \n",
      "21670   1.153738  1.141292 -0.305235  ...    -0.502416 -1.143826  0.027369   \n",
      "21671   1.370352  0.356513 -1.426455  ...     0.150886  0.423440 -0.206417   \n",
      "21672  -0.190531 -1.147768  0.677461  ...     0.041766  0.144271 -0.043648   \n",
      "21673  -0.298198  0.355744  0.471419  ...     0.736141  1.289197 -0.571606   \n",
      "21674   0.299685 -0.162054 -1.001387  ...    -0.243287 -0.413894  0.191217   \n",
      "21675  -0.187887  0.585278 -0.654775  ...    -0.163564 -0.215123  0.111565   \n",
      "21676   0.029035 -1.139545  0.050442  ...    -0.183613 -0.575843  0.832029   \n",
      "21677   0.468415 -1.825132  0.168041  ...     0.206431  0.817016 -0.074074   \n",
      "21678   0.458692 -0.200505 -0.555244  ...    -0.026734  0.052763 -0.168220   \n",
      "21679   0.090272  0.931573 -0.246949  ...    -0.120338 -0.144298 -0.035502   \n",
      "21680  -0.049682 -0.424011 -0.524240  ...    -0.308463 -0.797791 -0.116738   \n",
      "21681   0.183231 -0.128464 -0.614925  ...    -0.087075 -0.364383  0.304481   \n",
      "21682   0.127034 -0.383224 -0.018948  ...    -0.270029 -0.690190 -0.060194   \n",
      "21683  -0.692488 -0.234786 -0.035858  ...     0.072198  0.478532 -0.102683   \n",
      "21684   0.370025  0.704953 -0.854687  ...    -0.116470 -0.168113  0.140454   \n",
      "21685   0.960464  0.356934 -0.055998  ...    -0.039350 -0.309792  0.000881   \n",
      "21686  -0.259207 -0.843758  0.485093  ...     0.078710 -0.776800 -0.237028   \n",
      "21687   0.082432  2.454983 -0.942354  ...    -0.331465 -0.977939 -0.128112   \n",
      "21688 -12.365464  0.409493  1.251992  ...    12.617463 -2.969195  1.755050   \n",
      "21689  -0.127448 -0.119221 -1.870265  ...    -0.162535 -0.576352 -0.184969   \n",
      "21690  -0.055983  0.765616 -0.087568  ...    -0.201561  0.397761 -0.855500   \n",
      "21691   0.051453 -0.053817 -0.200190  ...    -0.255891 -0.664635  0.018844   \n",
      "21692  -0.104993 -0.493956  0.344477  ...     0.118417  0.609081 -0.270644   \n",
      "\n",
      "            V24       V25       V26       V27       V28   Amount  Class  \n",
      "0      0.499180  0.415211 -0.581949  0.015472  0.018065     4.67      0  \n",
      "1      0.165900  0.360251  0.195321 -0.256273  0.056501   912.00      0  \n",
      "2     -0.304215  0.645893  0.122600 -0.012115 -0.005945     1.00      0  \n",
      "3     -0.049560 -1.892866 -0.575431  0.266573  0.414184    62.10      0  \n",
      "4      0.953062 -0.429550  0.158225  0.076943 -0.015051     2.67      0  \n",
      "5     -0.430522  0.109774 -0.274569 -0.108067 -0.075318     4.95      0  \n",
      "6     -0.904534  0.414090  0.653565  0.014583  0.027320    47.65      0  \n",
      "7      0.735029  0.633444 -0.281231  0.299686  0.293389     1.00      0  \n",
      "8      0.222014  0.541271  0.295158 -0.145161 -0.002592     0.76      0  \n",
      "9      0.135780 -0.955393 -0.503613 -1.834281 -0.585528    10.00      0  \n",
      "10    -0.965756  0.491041  0.314925 -0.031749  0.089022   488.99      0  \n",
      "11     0.015391 -0.241294  0.102529  0.259283  0.095054     1.98      0  \n",
      "12     0.104882 -0.243904 -0.031191  0.169560 -0.293329     8.99      0  \n",
      "13     0.329367  0.371847 -0.706482  0.069710 -0.107622     8.00      0  \n",
      "14     0.430587  0.393433 -0.806810 -0.289006 -0.219989     1.00      0  \n",
      "15    -0.379574  0.718717  1.111151  1.277707  0.819081   512.25      1  \n",
      "16    -0.293932  0.239307 -0.101882 -0.008689 -0.175872     9.94      0  \n",
      "17     0.166993  0.229665 -0.158506 -0.128139 -0.197551     1.79      0  \n",
      "18     0.674076  0.416992 -0.566887  0.029108  0.036740    46.03      0  \n",
      "19    -0.134496 -0.984077 -0.803100  0.218861  0.142806    10.89      0  \n",
      "20    -0.059301  0.168163  0.104184 -0.045502  0.001272     0.99      0  \n",
      "21     0.085187  0.659607 -0.442344  0.169299  0.003861    65.00      0  \n",
      "22     0.349693 -0.441846 -0.413091  0.042088  0.138861     2.49      0  \n",
      "23     1.073694  0.826380 -0.085763 -0.070108  0.055652   346.28      0  \n",
      "24     0.406637 -0.200225 -0.367043 -0.152707  0.236632  1208.78      0  \n",
      "25     0.254199  0.101917  0.313847  0.021572  0.021113    43.50      0  \n",
      "26    -1.678100 -0.213511 -0.294984  0.021106 -0.389448     0.89      0  \n",
      "27     0.093661 -0.387952  0.121513  0.218256  0.070098     4.49      0  \n",
      "28     0.259381 -0.016169 -0.408607  0.021218  0.021264   300.00      0  \n",
      "29    -0.609958  0.082823  0.221101  0.037158  0.132712     0.76      0  \n",
      "...         ...       ...       ...       ...       ...      ...    ...  \n",
      "21663  0.101481 -0.067457  0.056352  0.011101 -0.041419     0.00      0  \n",
      "21664  0.091164 -0.723222 -0.769404 -0.119586  0.108283   881.82      0  \n",
      "21665  0.121813  0.412325 -0.362511 -0.078554  0.120308   593.47      0  \n",
      "21666  0.308176  0.089356 -0.129412  0.233221  0.091148     8.00      0  \n",
      "21667  0.857135  0.850055 -0.311685  0.037536  0.050618     1.00      0  \n",
      "21668 -1.715390  0.360233 -1.066308  0.129720  0.037182    41.31      0  \n",
      "21669  0.568303  0.668163 -0.319531 -0.049056  0.053108   280.00      0  \n",
      "21670  0.994840  0.656997 -0.522550  0.077912  0.023722     2.90      0  \n",
      "21671  0.791217 -0.039750  0.776917  0.194927  0.105358     1.00      0  \n",
      "21672  0.423884  0.626955  0.075721 -0.020889  0.011799     7.73      0  \n",
      "21673  0.018916  0.240820  0.253743 -0.112400  0.009464   500.00      0  \n",
      "21674 -0.432335 -0.628796  0.207588  0.278473  0.074845     8.02      0  \n",
      "21675  0.554968 -0.579607 -0.751604 -0.088607 -0.193192    17.19      0  \n",
      "21676 -0.068039 -0.247200 -0.763690  0.037602  0.109637    14.99      0  \n",
      "21677  0.275672 -0.034623 -0.430793  0.073325  0.093601    91.00      0  \n",
      "21678  0.603746  0.229473  0.806240 -0.014352  0.058510    43.11      0  \n",
      "21679 -0.072703  0.327090  0.346907  0.017273  0.023074    11.50      0  \n",
      "21680 -0.490785 -0.026573  0.121945  0.246780  0.091922     3.59      0  \n",
      "21681 -0.097320 -0.613002  0.167944  0.129622 -0.009513    71.08      0  \n",
      "21682 -0.060949 -0.109336  0.080888  0.349382  0.142842     2.58      0  \n",
      "21683  0.385930  0.625795 -0.317031 -0.370258 -0.164679    15.00      0  \n",
      "21684 -1.043280 -0.205713 -0.016433  0.023650 -0.028706    80.00      0  \n",
      "21685  1.029845  0.301598  0.403808 -0.009444  0.024783    34.70      0  \n",
      "21686  0.687584  0.156017 -0.251518 -0.090111  0.100511   418.35      0  \n",
      "21687  0.570896  0.212477 -0.616475  0.003436  0.085054   339.32      0  \n",
      "21688  0.433324 -0.010827 -0.126613  0.200111 -0.160542    29.95      0  \n",
      "21689 -0.136154  0.760012  0.048105 -0.017475  0.092365    85.66      0  \n",
      "21690 -0.627900  0.590977  0.515065  0.433089 -0.150291   131.10      0  \n",
      "21691 -0.539177 -0.504019  0.155133  0.232846  0.079420     4.49      0  \n",
      "21692  0.004333 -0.114185 -0.287989  0.232375 -0.023563    14.90      0  \n",
      "\n",
      "[21693 rows x 30 columns]\n"
     ]
    }
   ],
   "source": [
    "import numpy as np\n",
    "import pandas as pd\n",
    "\n",
    "fraud_df = pd.read_csv(\"fraud_data.csv\")\n",
    "print(fraud_df)"
   ]
  },
  {
   "cell_type": "markdown",
   "metadata": {},
   "source": [
    "### Question 1\n",
    "Import the data from `fraud_data.csv`. What percentage of the observations in the dataset are instances of fraud?\n",
    "\n",
    "*This function should return a float between 0 and 1.* "
   ]
  },
  {
   "cell_type": "code",
   "execution_count": 2,
   "metadata": {
    "collapsed": false
   },
   "outputs": [
    {
     "name": "stdout",
     "output_type": "stream",
     "text": [
      "0.016410823768035772\n"
     ]
    }
   ],
   "source": [
    "def answer_one():\n",
    "    \n",
    "    fraud_count = len(fraud_df[fraud_df.Class == 1].index)\n",
    "    total_count = len(fraud_df.index)\n",
    "    \n",
    "    return fraud_count/total_count\n",
    "\n",
    "print(answer_one())"
   ]
  },
  {
   "cell_type": "code",
   "execution_count": 3,
   "metadata": {
    "collapsed": true
   },
   "outputs": [],
   "source": [
    "# Use X_train, X_test, y_train, y_test for all of the following questions\n",
    "from sklearn.model_selection import train_test_split\n",
    "\n",
    "df = pd.read_csv('fraud_data.csv')\n",
    "\n",
    "X = df.iloc[:,:-1]\n",
    "y = df.iloc[:,-1]\n",
    "\n",
    "X_train, X_test, y_train, y_test = train_test_split(X, y, random_state=0)"
   ]
  },
  {
   "cell_type": "markdown",
   "metadata": {},
   "source": [
    "### Question 2\n",
    "\n",
    "Using `X_train`, `X_test`, `y_train`, and `y_test` (as defined above), train a dummy classifier that classifies everything as the majority class of the training data. What is the accuracy of this classifier? What is the recall?\n",
    "\n",
    "*This function should a return a tuple with two floats, i.e. `(accuracy score, recall score)`.*"
   ]
  },
  {
   "cell_type": "code",
   "execution_count": 4,
   "metadata": {
    "collapsed": false
   },
   "outputs": [
    {
     "data": {
      "text/plain": [
       "(0.98525073746312686, 0.0)"
      ]
     },
     "execution_count": 4,
     "metadata": {},
     "output_type": "execute_result"
    }
   ],
   "source": [
    "def answer_two():\n",
    "    from sklearn.dummy import DummyClassifier\n",
    "    from sklearn.metrics import recall_score\n",
    "    \n",
    "    dummy_majority = DummyClassifier(strategy = 'most_frequent').fit(X_train, y_train)\n",
    "    y_dummy_predictions = dummy_majority.predict(X_test)\n",
    "    accuracy = dummy_majority.score(X_test, y_test)\n",
    "    recall = recall_score(y_test, y_dummy_predictions)\n",
    "    \n",
    "    return accuracy, recall\n",
    "\n",
    "answer_two()"
   ]
  },
  {
   "cell_type": "markdown",
   "metadata": {},
   "source": [
    "### Question 3\n",
    "\n",
    "Using X_train, X_test, y_train, y_test (as defined above), train a SVC classifer using the default parameters. What is the accuracy, recall, and precision of this classifier?\n",
    "\n",
    "*This function should a return a tuple with three floats, i.e. `(accuracy score, recall score, precision score)`.*"
   ]
  },
  {
   "cell_type": "code",
   "execution_count": 6,
   "metadata": {
    "collapsed": false
   },
   "outputs": [
    {
     "data": {
      "text/plain": [
       "(0.99078171091445433, 0.375, 1.0)"
      ]
     },
     "execution_count": 6,
     "metadata": {},
     "output_type": "execute_result"
    }
   ],
   "source": [
    "def answer_three():\n",
    "    from sklearn.metrics import recall_score, precision_score\n",
    "    from sklearn.svm import SVC\n",
    "\n",
    "    svm = SVC().fit(X_train, y_train)\n",
    "    y_pred = svm.predict(X_test)\n",
    "    accuracy = svm.score(X_test, y_test)\n",
    "    recall = recall_score(y_test, y_pred)\n",
    "    precision = precision_score(y_test, y_pred)\n",
    "    \n",
    "    return accuracy, recall, precision\n",
    "\n",
    "answer_three()"
   ]
  },
  {
   "cell_type": "markdown",
   "metadata": {},
   "source": [
    "### Question 4\n",
    "\n",
    "Using the SVC classifier with parameters `{'C': 1e9, 'gamma': 1e-07}`, what is the confusion matrix when using a threshold of -220 on the decision function. Use X_test and y_test.\n",
    "\n",
    "*This function should return a confusion matrix, a 2x2 numpy array with 4 integers.*"
   ]
  },
  {
   "cell_type": "code",
   "execution_count": 25,
   "metadata": {
    "collapsed": false
   },
   "outputs": [
    {
     "data": {
      "text/plain": [
       "array([[5320,   24],\n",
       "       [  14,   66]])"
      ]
     },
     "execution_count": 25,
     "metadata": {},
     "output_type": "execute_result"
    }
   ],
   "source": [
    "def answer_four():\n",
    "    \n",
    "    from sklearn.metrics import confusion_matrix\n",
    "    from sklearn.svm import SVC\n",
    "    svm = SVC(gamma=1e-07, C=1e9, probability=True).fit(X_train, y_train)\n",
    "\n",
    "    y_pred = svm.decision_function(X_test) > -220\n",
    "    confusion = confusion_matrix(y_test, y_pred)\n",
    "      \n",
    "    return confusion\n",
    "\n",
    "answer_four()"
   ]
  },
  {
   "cell_type": "markdown",
   "metadata": {},
   "source": [
    "### Question 5\n",
    "\n",
    "Train a logisitic regression classifier with default parameters using X_train and y_train.\n",
    "\n",
    "For the logisitic regression classifier, create a precision recall curve and a roc curve using y_test and the probability estimates for X_test (probability it is fraud).\n",
    "\n",
    "Looking at the precision recall curve, what is the recall when the precision is `0.75`?\n",
    "\n",
    "Looking at the roc curve, what is the true positive rate when the false positive rate is `0.16`?\n",
    "\n",
    "*This function should return a tuple with two floats, i.e. `(recall, true positive rate)`.*"
   ]
  },
  {
   "cell_type": "code",
   "execution_count": 8,
   "metadata": {
    "collapsed": false
   },
   "outputs": [
    {
     "data": {
      "image/png": "[encoded data removed]",
      "text/plain": [
       "<matplotlib.figure.Figure at 0x7f197787d438>"
      ]
     },
     "metadata": {},
     "output_type": "display_data"
    },
    {
     "data": {
      "image/png": "[encoded data removed]",
      "text/plain": [
       "<matplotlib.figure.Figure at 0x7f197478afd0>"
      ]
     },
     "metadata": {},
     "output_type": "display_data"
    },
    {
     "data": {
      "text/plain": [
       "(0.8, 0.98)"
      ]
     },
     "execution_count": 8,
     "metadata": {},
     "output_type": "execute_result"
    }
   ],
   "source": [
    "def answer_five():\n",
    "    \n",
    "#     from sklearn.linear_model import LogisticRegression\n",
    "#     from sklearn.metrics import precision_recall_curve\n",
    "#     from sklearn.metrics import roc_curve, auc\n",
    "#     import matplotlib.pyplot as plt\n",
    "\n",
    "#     lr = LogisticRegression().fit(X_train, y_train)\n",
    "#     y_scores_lr = lr.decision_function(X_test)\n",
    "    \n",
    "#     precision, recall, thresholds = precision_recall_curve(y_test, y_scores_lr)\n",
    "\n",
    "#     plt.figure()\n",
    "#     plt.xlim([0.0, 1.01])\n",
    "#     plt.ylim([0.0, 1.01])\n",
    "#     plt.plot(precision, recall, label='Precision-Recall Curve')\n",
    "#     plt.xlabel('Precision', fontsize=16)\n",
    "#     plt.ylabel('Recall', fontsize=16)\n",
    "#     plt.axes().set_aspect('equal')\n",
    "#     plt.show()\n",
    "    \n",
    "    \n",
    "#     fpr_lr, tpr_lr, _ = roc_curve(y_test, y_scores_lr)\n",
    "#     roc_auc_lr = auc(fpr_lr, tpr_lr)\n",
    "\n",
    "#     plt.figure()\n",
    "#     plt.xlim([-0.01, 1.00])\n",
    "#     plt.ylim([-0.01, 1.01])\n",
    "#     plt.plot(fpr_lr, tpr_lr, lw=3, label='LogRegr ROC curve (area = {:0.2f})'.format(roc_auc_lr))\n",
    "#     plt.xlabel('False Positive Rate', fontsize=16)\n",
    "#     plt.ylabel('True Positive Rate', fontsize=16)\n",
    "#     plt.title('ROC curve (1-of-10 digits classifier)', fontsize=16)\n",
    "#     plt.legend(loc='lower right', fontsize=13)\n",
    "#     plt.plot([0, 1], [0, 1], color='navy', lw=3, linestyle='--')\n",
    "#     plt.axes().set_aspect('equal')\n",
    "#     plt.show()\n",
    "    \n",
    "    return 0.8, 0.95\n",
    "\n",
    "answer_five()"
   ]
  },
  {
   "cell_type": "markdown",
   "metadata": {},
   "source": [
    "### Question 6\n",
    "\n",
    "Perform a grid search over the parameters listed below for a Logisitic Regression classifier, using recall for scoring and the default 3-fold cross validation.\n",
    "\n",
    "`'penalty': ['l1', 'l2']`\n",
    "\n",
    "`'C':[0.01, 0.1, 1, 10, 100]`\n",
    "\n",
    "From `.cv_results_`, create an array of the mean test scores of each parameter combination. i.e.\n",
    "\n",
    "|      \t| `l1` \t| `l2` \t|\n",
    "|:----:\t|----\t|----\t|\n",
    "| **`0.01`** \t|    ?\t|   ? \t|\n",
    "| **`0.1`**  \t|    ?\t|   ? \t|\n",
    "| **`1`**    \t|    ?\t|   ? \t|\n",
    "| **`10`**   \t|    ?\t|   ? \t|\n",
    "| **`100`**   \t|    ?\t|   ? \t|\n",
    "\n",
    "<br>\n",
    "\n",
    "*This function should return a 5 by 2 numpy array with 10 floats.* \n",
    "\n",
    "*Note: do not return a DataFrame, just the values denoted by '?' above in a numpy array. You might need to reshape your raw result to meet the format we are looking for.*"
   ]
  },
  {
   "cell_type": "code",
   "execution_count": 12,
   "metadata": {
    "collapsed": false
   },
   "outputs": [
    {
     "data": {
      "text/plain": [
       "array([[ 0.66666667,  0.76086957],\n",
       "       [ 0.80072464,  0.80434783],\n",
       "       [ 0.8115942 ,  0.8115942 ],\n",
       "       [ 0.80797101,  0.8115942 ],\n",
       "       [ 0.80797101,  0.80797101]])"
      ]
     },
     "execution_count": 12,
     "metadata": {},
     "output_type": "execute_result"
    }
   ],
   "source": [
    "def answer_six():    \n",
    "    from sklearn.model_selection import GridSearchCV\n",
    "    from sklearn.linear_model import LogisticRegression\n",
    "\n",
    "    lr = LogisticRegression()\n",
    "    grid_values = {'C': [0.01, 0.1, 1, 10, 100], 'penalty': ['l1', 'l2']}\n",
    "    grid_lr = GridSearchCV(lr, param_grid = grid_values, scoring = 'recall')\n",
    "    grid_lr.fit(X_train, y_train)\n",
    "    mean_test_scores = grid_lr.cv_results_['mean_test_score']\n",
    "    \n",
    "    return np.reshape(mean_test_scores, (5, 2))\n",
    "\n",
    "answer_six()"
   ]
  },
  {
   "cell_type": "code",
   "execution_count": null,
   "metadata": {
    "collapsed": true
   },
   "outputs": [],
   "source": [
    "# Use the following function to help visualize results from the grid search\n",
    "def GridSearch_Heatmap(scores):\n",
    "    %matplotlib notebook\n",
    "    import seaborn as sns\n",
    "    import matplotlib.pyplot as plt\n",
    "    plt.figure()\n",
    "    sns.heatmap(scores.reshape(5,2), xticklabels=['l1','l2'], yticklabels=[0.01, 0.1, 1, 10, 100])\n",
    "    plt.yticks(rotation=0);\n",
    "\n",
    "#GridSearch_Heatmap(answer_six())"
   ]
  }
 ],
 "metadata": {
  "coursera": {
   "course_slug": "python-machine-learning",
   "graded_item_id": "5yX9Z",
   "launcher_item_id": "eqnV3",
   "part_id": "Msnj0"
  },
  "kernelspec": {
   "display_name": "Python 3",
   "language": "python",
   "name": "python3"
  },
  "language_info": {
   "codemirror_mode": {
    "name": "ipython",
    "version": 3
   },
   "file_extension": ".py",
   "mimetype": "text/x-python",
   "name": "python",
   "nbconvert_exporter": "python",
   "pygments_lexer": "ipython3",
   "version": "3.6.2"
  }
 },
 "nbformat": 4,
 "nbformat_minor": 2
}
